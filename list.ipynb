{
 "cells": [
  {
   "cell_type": "markdown",
   "id": "825e107c-2aaf-4228-b9f8-dd305317443a",
   "metadata": {},
   "source": [
    "# LIST"
   ]
  },
  {
   "cell_type": "markdown",
   "id": "007c6563-c137-4362-9c78-96d782423a0d",
   "metadata": {},
   "source": [
    "#### A list is a data structure in Python that is a mutable, or changeable, ordered sequence of elements"
   ]
  },
  {
   "cell_type": "code",
   "execution_count": 2,
   "id": "f8409f8e-ffb1-4c98-ae7e-b9b388d3e10f",
   "metadata": {},
   "outputs": [
    {
     "data": {
      "text/plain": [
       "[1, 2, 3, 4]"
      ]
     },
     "execution_count": 2,
     "metadata": {},
     "output_type": "execute_result"
    }
   ],
   "source": [
    "list=[1,2,3,4]\n",
    "list"
   ]
  },
  {
   "cell_type": "markdown",
   "id": "40ce4049-d075-43dd-8396-1bd2477c0aa2",
   "metadata": {},
   "source": [
    "## List functions"
   ]
  },
  {
   "cell_type": "markdown",
   "id": "de1b3f73-38a4-4bff-85cb-d5cdc43ffb97",
   "metadata": {},
   "source": [
    "### APPEND()"
   ]
  },
  {
   "cell_type": "markdown",
   "id": "0b0e847d-4f6d-4bf0-96f7-609a0f443110",
   "metadata": {},
   "source": [
    "#### It is Used for adding elements to the end of the List."
   ]
  },
  {
   "cell_type": "code",
   "execution_count": 4,
   "id": "9d14ce8c-9ba0-4f67-b241-c06949fca365",
   "metadata": {},
   "outputs": [
    {
     "data": {
      "text/plain": [
       "[1, 'A', 2, 'B', 3]"
      ]
     },
     "execution_count": 4,
     "metadata": {},
     "output_type": "execute_result"
    }
   ],
   "source": [
    "L1 = [1,'A',2,'B']\n",
    "L1.append(3)\n",
    "L1"
   ]
  },
  {
   "cell_type": "markdown",
   "id": "181da6c3-81a2-4062-85a4-f1cdbb5b19ae",
   "metadata": {},
   "source": [
    "### copy()"
   ]
  },
  {
   "cell_type": "markdown",
   "id": "79a94136-cf23-4f7d-9f80-73ff31059214",
   "metadata": {},
   "source": [
    "#### It returns a copy of a list."
   ]
  },
  {
   "cell_type": "code",
   "execution_count": 5,
   "id": "7dc57804-2c83-44fc-9fd1-b03ac803eaf9",
   "metadata": {},
   "outputs": [
    {
     "data": {
      "text/plain": [
       "[1, 'A', 2, 'B', 3]"
      ]
     },
     "execution_count": 5,
     "metadata": {},
     "output_type": "execute_result"
    }
   ],
   "source": [
    "L1.copy()\n",
    "L1"
   ]
  },
  {
   "cell_type": "markdown",
   "id": "2cab0ff5-7e7b-4c83-b04f-e30628ec0c00",
   "metadata": {},
   "source": [
    "### Clear()"
   ]
  },
  {
   "cell_type": "markdown",
   "id": "7e794bf9-ae4b-4c16-a999-d021277272cb",
   "metadata": {},
   "source": [
    "#### This method is used for removing all items from the list."
   ]
  },
  {
   "cell_type": "code",
   "execution_count": 13,
   "id": "ddc7ec00-3588-47c0-8c42-dfcdb18f00e2",
   "metadata": {},
   "outputs": [
    {
     "data": {
      "text/plain": [
       "[]"
      ]
     },
     "execution_count": 13,
     "metadata": {},
     "output_type": "execute_result"
    }
   ],
   "source": [
    "L1.clear()\n",
    "L1\n"
   ]
  },
  {
   "cell_type": "markdown",
   "id": "d042cf10-5678-4305-8813-e0b71a368834",
   "metadata": {},
   "source": [
    "### Count()"
   ]
  },
  {
   "cell_type": "markdown",
   "id": "343fcc91-5c60-4f8f-a272-54fe71c30317",
   "metadata": {},
   "source": [
    "#### These methods count the elements.It returns the count of how many times an element is present in a list."
   ]
  },
  {
   "cell_type": "code",
   "execution_count": 14,
   "id": "24ace20e-963d-4ff4-8c32-5be997f1fcbd",
   "metadata": {},
   "outputs": [
    {
     "data": {
      "text/plain": [
       "2"
      ]
     },
     "execution_count": 14,
     "metadata": {},
     "output_type": "execute_result"
    }
   ],
   "source": [
    "L2 = [1,1,2,3,4,]\n",
    "L2.count(1)"
   ]
  },
  {
   "cell_type": "markdown",
   "id": "245ed421-45ed-43bd-ab9b-7528c749e1cc",
   "metadata": {},
   "source": [
    "### EXTEND()"
   ]
  },
  {
   "cell_type": "markdown",
   "id": "0517baf5-dfee-4499-97fa-7608136362cd",
   "metadata": {},
   "source": [
    "#### It adds items of an iterable (list, tuple, dictionary, etc) at the end of a list."
   ]
  },
  {
   "cell_type": "code",
   "execution_count": 20,
   "id": "dda8fb2c-efc7-4b01-8eef-464b415e83e5",
   "metadata": {},
   "outputs": [],
   "source": [
    "fruits = ['BANANA','MANGO','APPLE']\n",
    "veggie = ['tomato','onion','potato']"
   ]
  },
  {
   "cell_type": "code",
   "execution_count": 21,
   "id": "99135158-3a0f-498c-83b1-38b55e107a4b",
   "metadata": {},
   "outputs": [
    {
     "name": "stdout",
     "output_type": "stream",
     "text": [
      "['BANANA', 'MANGO', 'APPLE']\n",
      "['tomato', 'onion', 'potato']\n"
     ]
    }
   ],
   "source": [
    "print(fruits)\n",
    "print(veggie)"
   ]
  },
  {
   "cell_type": "code",
   "execution_count": 22,
   "id": "7c319f56-b504-4536-a5dd-1b03ab149562",
   "metadata": {},
   "outputs": [],
   "source": [
    "fruits.extend(veggie)"
   ]
  },
  {
   "cell_type": "code",
   "execution_count": 25,
   "id": "2311c76b-bc61-4365-8482-dd7a2c596e2a",
   "metadata": {},
   "outputs": [
    {
     "data": {
      "text/plain": [
       "['BANANA', 'MANGO', 'APPLE', 'tomato', 'onion', 'potato']"
      ]
     },
     "execution_count": 25,
     "metadata": {},
     "output_type": "execute_result"
    }
   ],
   "source": [
    "fruits"
   ]
  },
  {
   "cell_type": "markdown",
   "id": "3b7b2bb4-4571-458e-982d-dc3de5ae5396",
   "metadata": {},
   "source": [
    "### INDEX()"
   ]
  },
  {
   "cell_type": "markdown",
   "id": "7716756d-1b12-4f8a-bd85-a15a02ffa4ff",
   "metadata": {},
   "source": [
    "#### This method is used to find position of element in list Python."
   ]
  },
  {
   "cell_type": "code",
   "execution_count": 27,
   "id": "6265bf69-06ed-4c31-8207-ad8ae68af5df",
   "metadata": {},
   "outputs": [
    {
     "name": "stdout",
     "output_type": "stream",
     "text": [
      "0\n"
     ]
    }
   ],
   "source": [
    "print(fruits.index('BANANA'))"
   ]
  },
  {
   "cell_type": "markdown",
   "id": "91525f10-6ee5-42ef-a1d1-5ec8a0d4cea6",
   "metadata": {},
   "source": [
    "### INSERT()"
   ]
  },
  {
   "cell_type": "markdown",
   "id": "e54c6bfa-0a47-490b-8a5a-c5db23a15787",
   "metadata": {},
   "source": [
    "#### This method inserts an item at a specific index in a list."
   ]
  },
  {
   "cell_type": "code",
   "execution_count": 28,
   "id": "15454dae-5433-4253-9888-3dffbfd8f44a",
   "metadata": {},
   "outputs": [
    {
     "name": "stdout",
     "output_type": "stream",
     "text": [
      "None\n"
     ]
    }
   ],
   "source": [
    "print(fruits.insert(2,'PINEAPPLE'))"
   ]
  },
  {
   "cell_type": "code",
   "execution_count": 29,
   "id": "2d973562-f7af-4a83-905d-eec8842a1b28",
   "metadata": {},
   "outputs": [
    {
     "data": {
      "text/plain": [
       "['BANANA', 'MANGO', 'PINEAPPLE', 'APPLE', 'tomato', 'onion', 'potato']"
      ]
     },
     "execution_count": 29,
     "metadata": {},
     "output_type": "execute_result"
    }
   ],
   "source": [
    "fruits"
   ]
  },
  {
   "cell_type": "markdown",
   "id": "5f55d28e-d8fa-473c-9d82-8b18c421ad84",
   "metadata": {},
   "source": [
    "### POP()"
   ]
  },
  {
   "cell_type": "markdown",
   "id": "ba3605c2-a2bb-4971-af66-77aea90a441f",
   "metadata": {},
   "source": [
    "#### This function removes elements at a specific index from the list."
   ]
  },
  {
   "cell_type": "code",
   "execution_count": 30,
   "id": "238fca6f-bd14-4390-a47a-0645b5117bf0",
   "metadata": {},
   "outputs": [
    {
     "data": {
      "text/plain": [
       "['BANANA', 'MANGO', 'PINEAPPLE', 'APPLE', 'tomato', 'onion', 'potato']"
      ]
     },
     "execution_count": 30,
     "metadata": {},
     "output_type": "execute_result"
    }
   ],
   "source": [
    "fruits"
   ]
  },
  {
   "cell_type": "code",
   "execution_count": 32,
   "id": "0d41f5c7-0351-484e-8d05-e5b39cc15d49",
   "metadata": {},
   "outputs": [
    {
     "data": {
      "text/plain": [
       "['BANANA', 'MANGO', 'tomato', 'onion', 'potato']"
      ]
     },
     "execution_count": 32,
     "metadata": {},
     "output_type": "execute_result"
    }
   ],
   "source": [
    "fruits.pop(2)\n",
    "fruits"
   ]
  },
  {
   "cell_type": "markdown",
   "id": "b655abca-9b59-4faf-af95-638e33d9b527",
   "metadata": {},
   "source": [
    "### REMOVE()"
   ]
  },
  {
   "cell_type": "markdown",
   "id": "c15c7425-d147-43b3-a72e-ad65283a9f6c",
   "metadata": {},
   "source": [
    "#### This method removes a given element from the list."
   ]
  },
  {
   "cell_type": "code",
   "execution_count": 33,
   "id": "6b92f3cf-f2be-47d6-97e6-567d963347f1",
   "metadata": {},
   "outputs": [
    {
     "data": {
      "text/plain": [
       "['BANANA', 'MANGO', 'tomato', 'onion', 'potato']"
      ]
     },
     "execution_count": 33,
     "metadata": {},
     "output_type": "execute_result"
    }
   ],
   "source": [
    "fruits"
   ]
  },
  {
   "cell_type": "code",
   "execution_count": 34,
   "id": "1a95ca7e-1f1a-4d77-b58b-dfa5c3f51fcf",
   "metadata": {},
   "outputs": [
    {
     "data": {
      "text/plain": [
       "['BANANA', 'MANGO', 'tomato', 'onion']"
      ]
     },
     "execution_count": 34,
     "metadata": {},
     "output_type": "execute_result"
    }
   ],
   "source": [
    "fruits.remove('potato')\n",
    "fruits"
   ]
  },
  {
   "cell_type": "markdown",
   "id": "e102bb30-b3ff-4096-9e84-9549c2caa78a",
   "metadata": {},
   "source": [
    "### REVERSE()"
   ]
  },
  {
   "cell_type": "markdown",
   "id": "17ef830e-fd97-487f-b606-afdf3f767d97",
   "metadata": {},
   "source": [
    "#### It reverses objects of the List in place."
   ]
  },
  {
   "cell_type": "code",
   "execution_count": 35,
   "id": "5611d3b0-9add-4f4a-89dd-7443068c60c1",
   "metadata": {},
   "outputs": [
    {
     "data": {
      "text/plain": [
       "['BANANA', 'MANGO', 'tomato', 'onion']"
      ]
     },
     "execution_count": 35,
     "metadata": {},
     "output_type": "execute_result"
    }
   ],
   "source": [
    "fruits"
   ]
  },
  {
   "cell_type": "code",
   "execution_count": 42,
   "id": "96f27ef7-db60-4ca9-8d0a-ccf211649866",
   "metadata": {},
   "outputs": [
    {
     "data": {
      "text/plain": [
       "['onion', 'tomato', 'MANGO', 'BANANA']"
      ]
     },
     "execution_count": 42,
     "metadata": {},
     "output_type": "execute_result"
    }
   ],
   "source": [
    "fruits.reverse()\n",
    "fruits\n"
   ]
  },
  {
   "cell_type": "markdown",
   "id": "4ba15dbd-f983-4f87-bc65-8eab680cb81a",
   "metadata": {},
   "source": [
    "### SORT()"
   ]
  },
  {
   "cell_type": "markdown",
   "id": "b4dacf5c-d56b-460f-8030-092c4657f846",
   "metadata": {},
   "source": [
    "#### It sorts in ascending order by default but can also sort values in descending order or in a custom manner using its parameters."
   ]
  },
  {
   "cell_type": "code",
   "execution_count": 43,
   "id": "d3413ded-62f7-4fda-8a3e-4f4647f5ffe1",
   "metadata": {},
   "outputs": [
    {
     "data": {
      "text/plain": [
       "['onion', 'tomato', 'MANGO', 'BANANA']"
      ]
     },
     "execution_count": 43,
     "metadata": {},
     "output_type": "execute_result"
    }
   ],
   "source": [
    "fruits"
   ]
  },
  {
   "cell_type": "code",
   "execution_count": 50,
   "id": "13edbba6-61e3-48bc-82bd-6a8037bcee72",
   "metadata": {},
   "outputs": [
    {
     "data": {
      "text/plain": [
       "['BANANA', 'MANGO', 'onion', 'tomato']"
      ]
     },
     "execution_count": 50,
     "metadata": {},
     "output_type": "execute_result"
    }
   ],
   "source": [
    "fruits.sort()\n",
    "fruits"
   ]
  },
  {
   "cell_type": "markdown",
   "id": "7541d818-5517-41f6-bcc5-e022a8a430d6",
   "metadata": {},
   "source": [
    "### MIN()"
   ]
  },
  {
   "cell_type": "markdown",
   "id": "a22edb58-b0e5-4ba8-a622-d36c85892655",
   "metadata": {},
   "source": [
    "#### It returns the smallest of the values or the smallest item in an iterable passed as its parameter."
   ]
  },
  {
   "cell_type": "code",
   "execution_count": 51,
   "id": "9b4516e7-e03a-4f9c-94f0-b8ccb95c48c3",
   "metadata": {},
   "outputs": [
    {
     "data": {
      "text/plain": [
       "[22, 78, 59, 44]"
      ]
     },
     "execution_count": 51,
     "metadata": {},
     "output_type": "execute_result"
    }
   ],
   "source": [
    "list3 = [22,78,59,44]\n",
    "list3"
   ]
  },
  {
   "cell_type": "code",
   "execution_count": 52,
   "id": "3c41feda-e7a9-47ff-b684-481dffb8e914",
   "metadata": {},
   "outputs": [
    {
     "data": {
      "text/plain": [
       "22"
      ]
     },
     "execution_count": 52,
     "metadata": {},
     "output_type": "execute_result"
    }
   ],
   "source": [
    "min(list3)\n"
   ]
  },
  {
   "cell_type": "markdown",
   "id": "1e2106a6-56e8-44f9-9a5d-d719aa239b75",
   "metadata": {},
   "source": [
    "### MAX"
   ]
  },
  {
   "cell_type": "markdown",
   "id": "f4315f8b-4b62-47c5-9949-fdaf69525970",
   "metadata": {},
   "source": [
    "#### It returns the maximum value present in the list."
   ]
  },
  {
   "cell_type": "code",
   "execution_count": 53,
   "id": "879fce0c-3cc9-4a79-997e-a542c9310fb1",
   "metadata": {},
   "outputs": [
    {
     "data": {
      "text/plain": [
       "[22, 78, 59, 44]"
      ]
     },
     "execution_count": 53,
     "metadata": {},
     "output_type": "execute_result"
    }
   ],
   "source": [
    "list3"
   ]
  },
  {
   "cell_type": "code",
   "execution_count": 54,
   "id": "52f8beaa-a869-44a3-a28d-271e2fe719cf",
   "metadata": {},
   "outputs": [
    {
     "data": {
      "text/plain": [
       "78"
      ]
     },
     "execution_count": 54,
     "metadata": {},
     "output_type": "execute_result"
    }
   ],
   "source": [
    "max(list3)"
   ]
  },
  {
   "cell_type": "code",
   "execution_count": null,
   "id": "d0cf921b-8f78-40ba-bc2c-a7e676e974db",
   "metadata": {},
   "outputs": [],
   "source": []
  }
 ],
 "metadata": {
  "kernelspec": {
   "display_name": "Python 3 (ipykernel)",
   "language": "python",
   "name": "python3"
  },
  "language_info": {
   "codemirror_mode": {
    "name": "ipython",
    "version": 3
   },
   "file_extension": ".py",
   "mimetype": "text/x-python",
   "name": "python",
   "nbconvert_exporter": "python",
   "pygments_lexer": "ipython3",
   "version": "3.11.7"
  }
 },
 "nbformat": 4,
 "nbformat_minor": 5
}
