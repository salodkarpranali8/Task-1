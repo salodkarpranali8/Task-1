{
 "cells": [
  {
   "cell_type": "markdown",
   "id": "4afd5a9d-ebdf-40a2-b179-b216bebd9205",
   "metadata": {},
   "source": [
    "# SETS"
   ]
  },
  {
   "cell_type": "markdown",
   "id": "bb2c7959-9255-4d2d-9a23-bb6cb4fbda37",
   "metadata": {},
   "source": [
    "### It is unordered and unindexed collection of element. Duplicates are not allow in set"
   ]
  },
  {
   "cell_type": "code",
   "execution_count": 3,
   "id": "a6835a40-f256-4e43-9752-d542183450dc",
   "metadata": {},
   "outputs": [
    {
     "data": {
      "text/plain": [
       "{1, 'True', 'a'}"
      ]
     },
     "execution_count": 3,
     "metadata": {},
     "output_type": "execute_result"
    }
   ],
   "source": [
    "s1 = {1,'a','True'}\n",
    "s1"
   ]
  },
  {
   "cell_type": "markdown",
   "id": "72af58a8-4cd1-4253-aeba-e3f2950ebc10",
   "metadata": {},
   "source": [
    "## Functions of Sets"
   ]
  },
  {
   "cell_type": "markdown",
   "id": "6e4993db-9c80-4dbe-b843-9191506accd0",
   "metadata": {},
   "source": [
    "### Add()"
   ]
  },
  {
   "cell_type": "markdown",
   "id": "a57aa78e-e5cf-4043-89a4-6e9d0ccb9ff6",
   "metadata": {},
   "source": [
    "#### Adds an element to the set. If the element already exists, the set remains unchanged."
   ]
  },
  {
   "cell_type": "code",
   "execution_count": 4,
   "id": "3ef8115d-bbdb-4f59-b78e-67fe323878a4",
   "metadata": {},
   "outputs": [
    {
     "data": {
      "text/plain": [
       "{1, 'True', 'a'}"
      ]
     },
     "execution_count": 4,
     "metadata": {},
     "output_type": "execute_result"
    }
   ],
   "source": [
    "s1"
   ]
  },
  {
   "cell_type": "code",
   "execution_count": 5,
   "id": "aa09d231-05c6-4113-9d5a-003bb7f6eaf3",
   "metadata": {},
   "outputs": [],
   "source": [
    "s1.add('b')"
   ]
  },
  {
   "cell_type": "code",
   "execution_count": 6,
   "id": "e83998d8-9f4d-4885-9f41-f926ccfbde1c",
   "metadata": {},
   "outputs": [
    {
     "data": {
      "text/plain": [
       "{1, 'True', 'a', 'b'}"
      ]
     },
     "execution_count": 6,
     "metadata": {},
     "output_type": "execute_result"
    }
   ],
   "source": [
    "s1"
   ]
  },
  {
   "cell_type": "markdown",
   "id": "5d2442a3-00da-4489-baee-7341b3091830",
   "metadata": {},
   "source": [
    "### Clear()"
   ]
  },
  {
   "cell_type": "markdown",
   "id": "ce6b68e4-3635-46a3-ac46-0d168c05b969",
   "metadata": {},
   "source": [
    "#### It Removes all elements from the set, leaving it empty."
   ]
  },
  {
   "cell_type": "code",
   "execution_count": 7,
   "id": "346fdc6a-ac7a-4939-a075-ee47ddd9f954",
   "metadata": {},
   "outputs": [
    {
     "data": {
      "text/plain": [
       "{1, 'True', 'a', 'b'}"
      ]
     },
     "execution_count": 7,
     "metadata": {},
     "output_type": "execute_result"
    }
   ],
   "source": [
    "s1"
   ]
  },
  {
   "cell_type": "code",
   "execution_count": 8,
   "id": "63997162-34c7-4438-bb2b-cb0a892c364e",
   "metadata": {},
   "outputs": [],
   "source": [
    "s1.clear()"
   ]
  },
  {
   "cell_type": "code",
   "execution_count": 9,
   "id": "5cbe9ce5-e9e6-4d6c-aab9-51e7829ddf33",
   "metadata": {},
   "outputs": [
    {
     "data": {
      "text/plain": [
       "set()"
      ]
     },
     "execution_count": 9,
     "metadata": {},
     "output_type": "execute_result"
    }
   ],
   "source": [
    "s1"
   ]
  },
  {
   "cell_type": "markdown",
   "id": "b6b28ba8-67e1-44c2-bdaa-50d6a132d05f",
   "metadata": {},
   "source": [
    "### Update()"
   ]
  },
  {
   "cell_type": "markdown",
   "id": "c0b1441c-d9b8-4bd4-8416-23638cb93bb7",
   "metadata": {},
   "source": [
    "#### This Methods Updates the set, adding elements from all others."
   ]
  },
  {
   "cell_type": "code",
   "execution_count": 11,
   "id": "e8e8d277-4f47-459c-ad71-48035c73d3be",
   "metadata": {},
   "outputs": [
    {
     "data": {
      "text/plain": [
       "{1, 4, 6, 'a', 'c'}"
      ]
     },
     "execution_count": 11,
     "metadata": {},
     "output_type": "execute_result"
    }
   ],
   "source": [
    "s2 = {1,4,6,'a','c'}\n",
    "s2"
   ]
  },
  {
   "cell_type": "code",
   "execution_count": 13,
   "id": "27cd8f0d-8b4b-46d4-8192-7a76c4fb6749",
   "metadata": {},
   "outputs": [],
   "source": [
    "s2.update([10,20])"
   ]
  },
  {
   "cell_type": "code",
   "execution_count": 14,
   "id": "5da8a5c6-cdca-49a0-ad78-207f1458ebe8",
   "metadata": {},
   "outputs": [
    {
     "data": {
      "text/plain": [
       "{1, 10, 20, 4, 6, 'a', 'c'}"
      ]
     },
     "execution_count": 14,
     "metadata": {},
     "output_type": "execute_result"
    }
   ],
   "source": [
    "s2"
   ]
  },
  {
   "cell_type": "markdown",
   "id": "07dd67ff-69be-45f4-829c-a91174db4974",
   "metadata": {},
   "source": [
    "### Union()"
   ]
  },
  {
   "cell_type": "markdown",
   "id": "f2e4322e-68b6-4eee-88b9-4200916cea3e",
   "metadata": {},
   "source": [
    "#### It Returns a new set with elements from the set and all others."
   ]
  },
  {
   "cell_type": "code",
   "execution_count": 15,
   "id": "df003ddc-6e39-4b3d-9258-56fac32c877b",
   "metadata": {},
   "outputs": [],
   "source": [
    "s3 = {10,20,30}\n",
    "s4 ={30,40,50}"
   ]
  },
  {
   "cell_type": "code",
   "execution_count": 16,
   "id": "444fa67e-46c9-4bbd-bf93-0120cc639104",
   "metadata": {},
   "outputs": [
    {
     "data": {
      "text/plain": [
       "{10, 20, 30, 40, 50}"
      ]
     },
     "execution_count": 16,
     "metadata": {},
     "output_type": "execute_result"
    }
   ],
   "source": [
    "s3.union(s4)"
   ]
  },
  {
   "cell_type": "markdown",
   "id": "e598f3b5-c73c-4705-b5e4-bb7bcc4c6dd4",
   "metadata": {},
   "source": [
    "### Intersection()"
   ]
  },
  {
   "cell_type": "markdown",
   "id": "07a6c316-a474-4dec-901a-dfddab2b436b",
   "metadata": {},
   "source": [
    "#### It Returns a new set with elements common to the set and all others."
   ]
  },
  {
   "cell_type": "markdown",
   "id": "7119bf2b-4892-4c57-97ec-b04e3052a1f2",
   "metadata": {},
   "source": [
    "s3"
   ]
  },
  {
   "cell_type": "code",
   "execution_count": 18,
   "id": "8992e131-3b54-446a-b7f4-fc72aaf605f1",
   "metadata": {},
   "outputs": [
    {
     "data": {
      "text/plain": [
       "{30, 40, 50}"
      ]
     },
     "execution_count": 18,
     "metadata": {},
     "output_type": "execute_result"
    }
   ],
   "source": [
    "s4"
   ]
  },
  {
   "cell_type": "code",
   "execution_count": 19,
   "id": "4554c671-811a-4886-a893-24dd77cf651f",
   "metadata": {},
   "outputs": [
    {
     "data": {
      "text/plain": [
       "{30}"
      ]
     },
     "execution_count": 19,
     "metadata": {},
     "output_type": "execute_result"
    }
   ],
   "source": [
    "s3.intersection(s4)"
   ]
  },
  {
   "cell_type": "markdown",
   "id": "dd2e31df-8ecf-4c8e-8ece-6baa9ada352b",
   "metadata": {},
   "source": [
    "### Discard()"
   ]
  },
  {
   "cell_type": "markdown",
   "id": "04973667-26fc-4344-90f6-90e09c1d512e",
   "metadata": {},
   "source": [
    "#### It Removes an element from the set if it is a member. If the element is not a member, do nothing."
   ]
  },
  {
   "cell_type": "code",
   "execution_count": 20,
   "id": "9f02a3d0-20e4-40fc-b848-b82ab8b14ac2",
   "metadata": {},
   "outputs": [
    {
     "data": {
      "text/plain": [
       "{30, 40, 50}"
      ]
     },
     "execution_count": 20,
     "metadata": {},
     "output_type": "execute_result"
    }
   ],
   "source": [
    "s4"
   ]
  },
  {
   "cell_type": "code",
   "execution_count": 21,
   "id": "ef8096a1-2b18-4da9-8275-76830f97853d",
   "metadata": {},
   "outputs": [],
   "source": [
    "s4.discard(30)"
   ]
  },
  {
   "cell_type": "code",
   "execution_count": 22,
   "id": "71c519d8-b5d0-4266-98e4-abee05ab57e8",
   "metadata": {},
   "outputs": [
    {
     "data": {
      "text/plain": [
       "{40, 50}"
      ]
     },
     "execution_count": 22,
     "metadata": {},
     "output_type": "execute_result"
    }
   ],
   "source": [
    "s4"
   ]
  },
  {
   "cell_type": "markdown",
   "id": "da58084b-ab33-44e4-95ba-fcfef7345c3c",
   "metadata": {},
   "source": [
    "### Difference()"
   ]
  },
  {
   "cell_type": "markdown",
   "id": "26ba9b41-8d19-4871-a5c7-ee4d324ff21e",
   "metadata": {},
   "source": [
    "#### It Returns a new set with elements that are in the set but not in the others."
   ]
  },
  {
   "cell_type": "code",
   "execution_count": 23,
   "id": "a85b2ce9-09c3-4586-8921-0f66d4d7630b",
   "metadata": {},
   "outputs": [],
   "source": [
    "a1={30,40,50}\n",
    "a2={20,30,40}"
   ]
  },
  {
   "cell_type": "code",
   "execution_count": 24,
   "id": "c6166b75-2fcc-46fe-8e9a-b6f8f5643d34",
   "metadata": {},
   "outputs": [
    {
     "data": {
      "text/plain": [
       "{50}"
      ]
     },
     "execution_count": 24,
     "metadata": {},
     "output_type": "execute_result"
    }
   ],
   "source": [
    "a1.difference(a2)\n"
   ]
  },
  {
   "cell_type": "code",
   "execution_count": 25,
   "id": "9afc694b-8384-4d38-9698-002465382abe",
   "metadata": {},
   "outputs": [
    {
     "data": {
      "text/plain": [
       "{20}"
      ]
     },
     "execution_count": 25,
     "metadata": {},
     "output_type": "execute_result"
    }
   ],
   "source": [
    "a2.difference(a1)"
   ]
  },
  {
   "cell_type": "code",
   "execution_count": null,
   "id": "1fae7df8-b912-4de2-8318-d93bc962d49b",
   "metadata": {},
   "outputs": [],
   "source": []
  },
  {
   "cell_type": "code",
   "execution_count": null,
   "id": "93c151a2-8dbf-48fa-94bb-36e1b3b5437b",
   "metadata": {},
   "outputs": [],
   "source": []
  }
 ],
 "metadata": {
  "kernelspec": {
   "display_name": "Python 3 (ipykernel)",
   "language": "python",
   "name": "python3"
  },
  "language_info": {
   "codemirror_mode": {
    "name": "ipython",
    "version": 3
   },
   "file_extension": ".py",
   "mimetype": "text/x-python",
   "name": "python",
   "nbconvert_exporter": "python",
   "pygments_lexer": "ipython3",
   "version": "3.11.7"
  }
 },
 "nbformat": 4,
 "nbformat_minor": 5
}
