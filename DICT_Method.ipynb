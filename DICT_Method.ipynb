{
 "cells": [
  {
   "cell_type": "markdown",
   "id": "fe06e6ee-aa8d-42a5-9a93-3512ad0d9786",
   "metadata": {},
   "source": [
    "# DICTIONARY\n",
    "\n",
    "* The dict () method in Python is a constructor that is used to create dictionaries.\n",
    "\n",
    "* A dictionary is a collection which is ordered, changeable and do not allow duplicates."
   ]
  },
  {
   "cell_type": "code",
   "execution_count": null,
   "id": "813e83e8-8087-4f30-a9f6-c479f626737d",
   "metadata": {},
   "outputs": [],
   "source": []
  },
  {
   "cell_type": "markdown",
   "id": "616632b8-4a4a-43c7-a6ea-46651cacd309",
   "metadata": {},
   "source": [
    "# METHODS OF DICTIONARY\n",
    "\n",
    "* It is a sequence of key-value pairs separated by commas and surrounded by curly braces.Itprovides more than 10 methods for working with dictionaries."
   ]
  },
  {
   "cell_type": "code",
   "execution_count": null,
   "id": "6016c5cf-b297-4dcc-b443-c30e1c744555",
   "metadata": {},
   "outputs": [],
   "source": []
  },
  {
   "cell_type": "markdown",
   "id": "f11a23af-e13a-4026-bf54-b0c5b38398d8",
   "metadata": {},
   "source": [
    "# CLEAR()\n",
    "\n",
    "* The 'CLEAR' function removes all the elements from the dictionary.\n",
    "\n",
    "* Example:-"
   ]
  },
  {
   "cell_type": "code",
   "execution_count": 34,
   "id": "12265243-ce76-457d-8d3d-7a00013f2ba0",
   "metadata": {},
   "outputs": [
    {
     "data": {
      "text/plain": [
       "{'Banana': 12, 'Apple': 24, 'Lemon': 5}"
      ]
     },
     "execution_count": 34,
     "metadata": {},
     "output_type": "execute_result"
    }
   ],
   "source": [
    "d1 = {'Banana':12,'Apple':24,'Lemon':5}\n",
    "     \n",
    "d1"
   ]
  },
  {
   "cell_type": "code",
   "execution_count": 22,
   "id": "2eace9d0-8ad8-46b2-9f51-2508486aeed6",
   "metadata": {},
   "outputs": [
    {
     "data": {
      "text/plain": [
       "{}"
      ]
     },
     "execution_count": 22,
     "metadata": {},
     "output_type": "execute_result"
    }
   ],
   "source": [
    "d1.clear()\n",
    "\n",
    "d1"
   ]
  },
  {
   "cell_type": "code",
   "execution_count": null,
   "id": "685da53d-ba50-449d-8798-901e2ce7b902",
   "metadata": {},
   "outputs": [],
   "source": []
  },
  {
   "cell_type": "markdown",
   "id": "815a85b3-26ca-4df8-9f5a-2105decf3b6f",
   "metadata": {},
   "source": [
    "# COPY()\n",
    "\n",
    "* The 'COPY' function returns a copy of the dictionary.\n",
    "\n",
    "* Example:-"
   ]
  },
  {
   "cell_type": "code",
   "execution_count": 56,
   "id": "ac3014bf-bc28-4872-b0f5-1d285487eaae",
   "metadata": {},
   "outputs": [
    {
     "data": {
      "text/plain": [
       "{'Car': 5, 'Bus': 10, 'Jeep': 30}"
      ]
     },
     "execution_count": 56,
     "metadata": {},
     "output_type": "execute_result"
    }
   ],
   "source": [
    "d2 = {'Car':5,'Bus':10,'Jeep':30}\n",
    "\n",
    "d2"
   ]
  },
  {
   "cell_type": "code",
   "execution_count": 57,
   "id": "76d2a1ad-32cf-455f-a3b6-888d7c09d50f",
   "metadata": {},
   "outputs": [
    {
     "data": {
      "text/plain": [
       "{'Car': 5, 'Bus': 10, 'Jeep': 30}"
      ]
     },
     "execution_count": 57,
     "metadata": {},
     "output_type": "execute_result"
    }
   ],
   "source": [
    "d2.copy()\n",
    "\n",
    "d2"
   ]
  },
  {
   "cell_type": "code",
   "execution_count": null,
   "id": "567c8b9f-fa18-48ca-bf74-bd78d46ec9d4",
   "metadata": {},
   "outputs": [],
   "source": []
  },
  {
   "cell_type": "markdown",
   "id": "d4e524d8-299c-438e-aaff-32c6cd68c0f0",
   "metadata": {},
   "source": [
    "# FROMKEYS()\n",
    "\n",
    "* The 'FROMKEYS' function returns a dictionary with the specified keys and value.\n",
    "\n",
    "* Example:-"
   ]
  },
  {
   "cell_type": "code",
   "execution_count": 58,
   "id": "674e7cb0-9d1b-4173-add6-5297a07ce1db",
   "metadata": {},
   "outputs": [
    {
     "name": "stdout",
     "output_type": "stream",
     "text": [
      "{'Tomato': 40, 'Onion': 40}\n"
     ]
    }
   ],
   "source": [
    "d3 = ('Tomato','Onion')\n",
    "\n",
    "d4 = 40\n",
    "\n",
    "newDict = dict.fromkeys(d3,d4)\n",
    "\n",
    "print(newDict)\n"
   ]
  },
  {
   "cell_type": "code",
   "execution_count": null,
   "id": "cd733255-df97-450d-a9a2-f0ef6dcb87ae",
   "metadata": {},
   "outputs": [],
   "source": []
  },
  {
   "cell_type": "markdown",
   "id": "8c152ce2-4293-4998-a98a-751c400df594",
   "metadata": {},
   "source": [
    "# GET()\n",
    "\n",
    "* The 'GET' function returns the value of the specified key.\n",
    "\n",
    "* Example:-"
   ]
  },
  {
   "cell_type": "code",
   "execution_count": 59,
   "id": "4ad34ffa-060b-49cb-b8e3-e04213994ea1",
   "metadata": {},
   "outputs": [
    {
     "data": {
      "text/plain": [
       "15000"
      ]
     },
     "execution_count": 59,
     "metadata": {},
     "output_type": "execute_result"
    }
   ],
   "source": [
    "d5 = {'brand':'Ford','model':'Mustang','year':1964}\n",
    "\n",
    "dx = car.get('price', 15000)\n",
    "\n",
    "dx"
   ]
  },
  {
   "cell_type": "code",
   "execution_count": null,
   "id": "63dd4b63-f105-4178-93f4-1580a785cb55",
   "metadata": {},
   "outputs": [],
   "source": []
  },
  {
   "cell_type": "markdown",
   "id": "55753522-43f6-440e-b7ca-39e254004800",
   "metadata": {},
   "source": [
    "# ITEMS()\n",
    "\n",
    "* The 'ITEMS' function returns a list containing a tuple for each key value pair\n",
    "\n",
    "* Example:-"
   ]
  },
  {
   "cell_type": "code",
   "execution_count": 60,
   "id": "2aac93d8-aed5-4d4e-a5c3-8d43804fb08f",
   "metadata": {},
   "outputs": [
    {
     "data": {
      "text/plain": [
       "{'brand': 'Ford', 'model': 'Mustang', 'year': 1964}"
      ]
     },
     "execution_count": 60,
     "metadata": {},
     "output_type": "execute_result"
    }
   ],
   "source": [
    "d5"
   ]
  },
  {
   "cell_type": "code",
   "execution_count": 61,
   "id": "a48331fe-5c90-43cc-b71a-9831254d1ea8",
   "metadata": {},
   "outputs": [
    {
     "name": "stdout",
     "output_type": "stream",
     "text": [
      "dict_items([('brand', 'Ford'), ('model', 'Mustang'), ('year', 1964)])\n"
     ]
    }
   ],
   "source": [
    "x = car.items()\n",
    "\n",
    "print(x)"
   ]
  },
  {
   "cell_type": "code",
   "execution_count": null,
   "id": "24fe4036-a944-414d-ba86-47a42bb03b2b",
   "metadata": {},
   "outputs": [],
   "source": []
  },
  {
   "cell_type": "markdown",
   "id": "191406d8-826c-4047-b46b-4679f0814c4e",
   "metadata": {},
   "source": [
    "# KEYS()\n",
    "\n",
    "* The 'KEYS' function Returns a list containing the dictionary's keys.\n",
    "\n",
    "* Example:-"
   ]
  },
  {
   "cell_type": "code",
   "execution_count": 62,
   "id": "f3b5268a-09c7-44cb-8a84-ab2dc2218368",
   "metadata": {},
   "outputs": [
    {
     "data": {
      "text/plain": [
       "{'brand': 'Ford', 'model': 'Mustang', 'year': 1964}"
      ]
     },
     "execution_count": 62,
     "metadata": {},
     "output_type": "execute_result"
    }
   ],
   "source": [
    "d5"
   ]
  },
  {
   "cell_type": "code",
   "execution_count": 63,
   "id": "570574b9-ce46-4645-abbb-093c01603e39",
   "metadata": {},
   "outputs": [
    {
     "data": {
      "text/plain": [
       "dict_keys(['brand', 'model', 'year'])"
      ]
     },
     "execution_count": 63,
     "metadata": {},
     "output_type": "execute_result"
    }
   ],
   "source": [
    "d5.keys()"
   ]
  },
  {
   "cell_type": "code",
   "execution_count": null,
   "id": "515aaecd-7e85-478b-971a-620a4d21a2c0",
   "metadata": {},
   "outputs": [],
   "source": []
  },
  {
   "cell_type": "markdown",
   "id": "6cb71cbc-4e1c-4fc0-b34c-6efd732f1e0b",
   "metadata": {},
   "source": [
    "# POP()\n",
    "\n",
    "* The 'POP' function removes the element with the specified key.\n",
    "\n",
    "* Example:-"
   ]
  },
  {
   "cell_type": "code",
   "execution_count": 85,
   "id": "a7d88664-37e4-4dc7-9221-900214fbbfec",
   "metadata": {},
   "outputs": [
    {
     "data": {
      "text/plain": [
       "'Mango'"
      ]
     },
     "execution_count": 85,
     "metadata": {},
     "output_type": "execute_result"
    }
   ],
   "source": [
    "d6 = ['apple','banana','cherry','Mango']\n",
    "\n",
    "d6.pop(3)"
   ]
  },
  {
   "cell_type": "code",
   "execution_count": null,
   "id": "a0174345-7042-409c-9b05-3f159c0e1853",
   "metadata": {},
   "outputs": [],
   "source": []
  },
  {
   "cell_type": "markdown",
   "id": "e259377c-a41b-495f-af3e-7978873bfa2d",
   "metadata": {},
   "source": [
    "# POPITEM()\n",
    "\n",
    "* The 'POPITEM' function removes the last inserted key-value pair\n",
    "\n",
    "*Example:-"
   ]
  },
  {
   "cell_type": "code",
   "execution_count": 92,
   "id": "44e33d71-a52a-4aaf-a564-e01ec910ee9c",
   "metadata": {},
   "outputs": [
    {
     "data": {
      "text/plain": [
       "{'I1': 443, 'I2': 433, 'I3': 544, 'I4': 664}"
      ]
     },
     "execution_count": 92,
     "metadata": {},
     "output_type": "execute_result"
    }
   ],
   "source": [
    "d7 = {'I1':443,'I2':433,'I3':544,'I4':664}\n",
    "\n",
    "d7"
   ]
  },
  {
   "cell_type": "code",
   "execution_count": 94,
   "id": "bafff772-73a7-4c62-b526-442c48cf2f45",
   "metadata": {},
   "outputs": [
    {
     "data": {
      "text/plain": [
       "('I3', 544)"
      ]
     },
     "execution_count": 94,
     "metadata": {},
     "output_type": "execute_result"
    }
   ],
   "source": [
    "dx7 = d7.popitem()\n",
    "\n",
    "dx7"
   ]
  },
  {
   "cell_type": "code",
   "execution_count": null,
   "id": "1b268998-3267-4347-9454-8d82c2d7242e",
   "metadata": {},
   "outputs": [],
   "source": []
  },
  {
   "cell_type": "markdown",
   "id": "4b740251-c772-4cc9-8134-e43d32441de1",
   "metadata": {},
   "source": [
    "# SETDEFAULT()\n",
    "\n",
    "* The 'SETDEFAULT' function returns the value of the specified key. If the key does not exist, insert the key, with the specified value.\n",
    "\n",
    "* Example:-"
   ]
  },
  {
   "cell_type": "code",
   "execution_count": 133,
   "id": "329c7db8-03bc-49d0-a7c2-3b2be2db5ae6",
   "metadata": {},
   "outputs": [
    {
     "data": {
      "text/plain": [
       "{'val1': 50}"
      ]
     },
     "execution_count": 133,
     "metadata": {},
     "output_type": "execute_result"
    }
   ],
   "source": [
    "d8 = {'val1': 50}\n",
    "\n",
    "d8"
   ]
  },
  {
   "cell_type": "code",
   "execution_count": 137,
   "id": "f9b6faad-55dc-48b0-9358-d2edfb36b0da",
   "metadata": {},
   "outputs": [],
   "source": [
    "dx = d8.setdefault('val2',80)"
   ]
  },
  {
   "cell_type": "code",
   "execution_count": 138,
   "id": "12fb018a-ecb5-439f-923c-0120dd234784",
   "metadata": {},
   "outputs": [
    {
     "data": {
      "text/plain": [
       "80"
      ]
     },
     "execution_count": 138,
     "metadata": {},
     "output_type": "execute_result"
    }
   ],
   "source": [
    "dx"
   ]
  },
  {
   "cell_type": "code",
   "execution_count": 139,
   "id": "d790d278-b107-48cb-afe2-e768754421e8",
   "metadata": {},
   "outputs": [
    {
     "data": {
      "text/plain": [
       "{'val1': 50, 's2': 80, 'val2': 80}"
      ]
     },
     "execution_count": 139,
     "metadata": {},
     "output_type": "execute_result"
    }
   ],
   "source": [
    "d8"
   ]
  },
  {
   "cell_type": "code",
   "execution_count": null,
   "id": "7d002079-8df3-4314-8ae4-0a3cde9d53ae",
   "metadata": {},
   "outputs": [],
   "source": []
  },
  {
   "cell_type": "markdown",
   "id": "f3c547f7-e968-47a1-89ad-0b4c07c7fda8",
   "metadata": {},
   "source": [
    "# UPDATE()\n",
    "\n",
    "* The 'UPDATE' function updates the dictionary with the specified key-value pairs.\n",
    "\n",
    "* Example:-"
   ]
  },
  {
   "cell_type": "code",
   "execution_count": 144,
   "id": "17898e81-2016-438b-89ff-e83d2f2d31d1",
   "metadata": {},
   "outputs": [
    {
     "data": {
      "text/plain": [
       "{'mango': 12, 'banana': 24, 'apple': 15, 'chiku': 36}"
      ]
     },
     "execution_count": 144,
     "metadata": {},
     "output_type": "execute_result"
    }
   ],
   "source": [
    "d9 = {'mango':12,'banana':24,'apple':15,'chiku':36}\n",
    "d9"
   ]
  },
  {
   "cell_type": "code",
   "execution_count": 150,
   "id": "b49ad025-e361-479f-a35b-ab79d764f431",
   "metadata": {},
   "outputs": [
    {
     "data": {
      "text/plain": [
       "{'mango': 12,\n",
       " 'banana': 24,\n",
       " 'apple': 15,\n",
       " 'chiku': 36,\n",
       " 'lemon': 22,\n",
       " 'orange': 55}"
      ]
     },
     "execution_count": 150,
     "metadata": {},
     "output_type": "execute_result"
    }
   ],
   "source": [
    "d9.update({'lemon':22,'orange':55})\n",
    "\n",
    "d9"
   ]
  },
  {
   "cell_type": "code",
   "execution_count": null,
   "id": "f77d1474-3182-491e-8b3e-8f09dcaa07ca",
   "metadata": {},
   "outputs": [],
   "source": []
  },
  {
   "cell_type": "markdown",
   "id": "3770ab7d-1aab-4587-b42a-cd244c4ff45c",
   "metadata": {},
   "source": [
    "# VALUES()\n",
    "\n",
    "* The 'VALUES' function returns a list of all the values in the dictionary.\n",
    "\n",
    "* Example:-"
   ]
  },
  {
   "cell_type": "code",
   "execution_count": 151,
   "id": "de0bfdec-b242-424c-8350-48bfa16b7058",
   "metadata": {},
   "outputs": [
    {
     "data": {
      "text/plain": [
       "{'mango': 12,\n",
       " 'banana': 24,\n",
       " 'apple': 15,\n",
       " 'chiku': 36,\n",
       " 'lemon': 22,\n",
       " 'orange': 55}"
      ]
     },
     "execution_count": 151,
     "metadata": {},
     "output_type": "execute_result"
    }
   ],
   "source": [
    "d9"
   ]
  },
  {
   "cell_type": "code",
   "execution_count": 152,
   "id": "0b30b941-fb40-404b-91d2-1ef8fa068ff8",
   "metadata": {},
   "outputs": [
    {
     "data": {
      "text/plain": [
       "dict_values([12, 24, 15, 36, 22, 55])"
      ]
     },
     "execution_count": 152,
     "metadata": {},
     "output_type": "execute_result"
    }
   ],
   "source": [
    "d9.values()"
   ]
  },
  {
   "cell_type": "code",
   "execution_count": null,
   "id": "d1c5f3af-300b-427e-82bf-965f89e87d87",
   "metadata": {},
   "outputs": [],
   "source": []
  }
 ],
 "metadata": {
  "kernelspec": {
   "display_name": "Python 3 (ipykernel)",
   "language": "python",
   "name": "python3"
  },
  "language_info": {
   "codemirror_mode": {
    "name": "ipython",
    "version": 3
   },
   "file_extension": ".py",
   "mimetype": "text/x-python",
   "name": "python",
   "nbconvert_exporter": "python",
   "pygments_lexer": "ipython3",
   "version": "3.11.7"
  }
 },
 "nbformat": 4,
 "nbformat_minor": 5
}
