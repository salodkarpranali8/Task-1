{
 "cells": [
  {
   "cell_type": "markdown",
   "id": "e65966de-86b5-4270-9d56-2092eaf2efea",
   "metadata": {},
   "source": [
    "# TUPLE"
   ]
  },
  {
   "cell_type": "markdown",
   "id": "4ed3ef8b-0a4a-4d34-b9a8-906ebc7f3b12",
   "metadata": {},
   "source": [
    "### create tuple"
   ]
  },
  {
   "cell_type": "code",
   "execution_count": 1,
   "id": "6ee63e44-6d5d-4bb0-81f7-408d368b9504",
   "metadata": {},
   "outputs": [],
   "source": [
    "t1 = ('mango','grapes','banana')"
   ]
  },
  {
   "cell_type": "code",
   "execution_count": 2,
   "id": "e8366440-097c-420b-a547-1bd103247c4b",
   "metadata": {},
   "outputs": [
    {
     "name": "stdout",
     "output_type": "stream",
     "text": [
      "('mango', 'grapes', 'banana')\n"
     ]
    }
   ],
   "source": [
    "print(t1)"
   ]
  },
  {
   "cell_type": "markdown",
   "id": "604414a2-96a0-413a-a9b3-d498d2d46291",
   "metadata": {},
   "source": [
    "## Functions of Tuple"
   ]
  },
  {
   "cell_type": "markdown",
   "id": "aa0af81e-60bc-4666-9b4f-ebbde3340fbe",
   "metadata": {},
   "source": [
    "## len()"
   ]
  },
  {
   "cell_type": "markdown",
   "id": "064c213d-4a09-4712-83da-6918dcf1cb93",
   "metadata": {},
   "source": [
    "#### This function returns the number of element present in a tuple."
   ]
  },
  {
   "cell_type": "code",
   "execution_count": 3,
   "id": "adaf654a-3825-4296-b266-a7c9ced8f952",
   "metadata": {},
   "outputs": [
    {
     "data": {
      "text/plain": [
       "('mango', 'grapes', 'banana')"
      ]
     },
     "execution_count": 3,
     "metadata": {},
     "output_type": "execute_result"
    }
   ],
   "source": [
    "t1"
   ]
  },
  {
   "cell_type": "code",
   "execution_count": 5,
   "id": "7f087279-4f2d-4b97-b80e-eb6f04b0c883",
   "metadata": {},
   "outputs": [
    {
     "data": {
      "text/plain": [
       "3"
      ]
     },
     "execution_count": 5,
     "metadata": {},
     "output_type": "execute_result"
    }
   ],
   "source": [
    "len(t1)"
   ]
  },
  {
   "cell_type": "markdown",
   "id": "36b54635-846d-442d-97d8-95cde1628856",
   "metadata": {},
   "source": [
    "## count()"
   ]
  },
  {
   "cell_type": "markdown",
   "id": "e9e02fc7-69dd-4f60-b845-5d60ca22e682",
   "metadata": {},
   "source": [
    "#### This function will help us to found the number of time an element is present in the tuple."
   ]
  },
  {
   "cell_type": "code",
   "execution_count": 9,
   "id": "41f1f39f-fd14-4aaa-832b-8422d6ee370b",
   "metadata": {},
   "outputs": [
    {
     "data": {
      "text/plain": [
       "(22, 45, 67, 87, 45, 78, 45)"
      ]
     },
     "execution_count": 9,
     "metadata": {},
     "output_type": "execute_result"
    }
   ],
   "source": [
    "t2 = (22,45,67,87,45,78,45)\n",
    "t2"
   ]
  },
  {
   "cell_type": "code",
   "execution_count": 10,
   "id": "c207a12c-6e87-4361-9412-466339460276",
   "metadata": {},
   "outputs": [
    {
     "data": {
      "text/plain": [
       "3"
      ]
     },
     "execution_count": 10,
     "metadata": {},
     "output_type": "execute_result"
    }
   ],
   "source": [
    "t2.count(45)"
   ]
  },
  {
   "cell_type": "markdown",
   "id": "076955a9-98c2-481b-b8ef-a9f2cbe9351d",
   "metadata": {},
   "source": [
    "## Index()"
   ]
  },
  {
   "cell_type": "markdown",
   "id": "4dd74815-364e-4c66-9e31-c5ac090347d9",
   "metadata": {},
   "source": [
    "#### This index() method helps us to find the index or occurrence of an element in the tuple."
   ]
  },
  {
   "cell_type": "code",
   "execution_count": 11,
   "id": "613dceed-d1ff-4ed7-a133-14d665e4047b",
   "metadata": {},
   "outputs": [
    {
     "data": {
      "text/plain": [
       "(22, 45, 67, 87, 45, 78, 45)"
      ]
     },
     "execution_count": 11,
     "metadata": {},
     "output_type": "execute_result"
    }
   ],
   "source": [
    "t2"
   ]
  },
  {
   "cell_type": "code",
   "execution_count": 12,
   "id": "d51d8899-8df5-4905-8d4a-03f92fc5204d",
   "metadata": {},
   "outputs": [
    {
     "data": {
      "text/plain": [
       "3"
      ]
     },
     "execution_count": 12,
     "metadata": {},
     "output_type": "execute_result"
    }
   ],
   "source": [
    "t2.index(87)"
   ]
  },
  {
   "cell_type": "markdown",
   "id": "6f5547dd-bf92-4866-92ba-8104b4c785ba",
   "metadata": {},
   "source": [
    "## sorted()"
   ]
  },
  {
   "cell_type": "markdown",
   "id": "e6aa71e9-2488-4fc8-930d-f5f3c74fb357",
   "metadata": {},
   "source": [
    "#### This method takes a tuple as an input and returns a sorted list as an output."
   ]
  },
  {
   "cell_type": "code",
   "execution_count": 13,
   "id": "615057d0-c737-4530-b3d2-21123b2db221",
   "metadata": {},
   "outputs": [
    {
     "data": {
      "text/plain": [
       "(5, 8, 3, 1, 6)"
      ]
     },
     "execution_count": 13,
     "metadata": {},
     "output_type": "execute_result"
    }
   ],
   "source": [
    "t3 = (5,8,3,1,6)\n",
    "t3"
   ]
  },
  {
   "cell_type": "code",
   "execution_count": 17,
   "id": "4341668c-42b3-41a4-94b5-4c7757b73d39",
   "metadata": {},
   "outputs": [
    {
     "data": {
      "text/plain": [
       "[1, 3, 5, 6, 8]"
      ]
     },
     "execution_count": 17,
     "metadata": {},
     "output_type": "execute_result"
    }
   ],
   "source": [
    "sorted(t3)"
   ]
  },
  {
   "cell_type": "code",
   "execution_count": null,
   "id": "1c3c0d5a-5535-4786-9c4d-82b467b9fb1b",
   "metadata": {},
   "outputs": [],
   "source": []
  }
 ],
 "metadata": {
  "kernelspec": {
   "display_name": "Python 3 (ipykernel)",
   "language": "python",
   "name": "python3"
  },
  "language_info": {
   "codemirror_mode": {
    "name": "ipython",
    "version": 3
   },
   "file_extension": ".py",
   "mimetype": "text/x-python",
   "name": "python",
   "nbconvert_exporter": "python",
   "pygments_lexer": "ipython3",
   "version": "3.11.7"
  }
 },
 "nbformat": 4,
 "nbformat_minor": 5
}
